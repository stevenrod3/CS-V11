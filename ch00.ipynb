{
  "cells": [
    {
      "cell_type": "markdown",
      "metadata": {
        "id": "RalMZQvQJEH_"
      },
      "source": [
        "# <p style=\"font-family: Arial; font-size:1.4em;color:gold;\"> Jupyter Notebook </p>\n",
        "<img src=\"https://miro.medium.com/v2/resize:fit:1400/1*RzxZF0mmXAsMLrIzAWYDSg.png\" alt=\"Drawing\" style=\"width: 400px;\"/>"
      ]
    },
    {
      "cell_type": "markdown",
      "metadata": {
        "id": "DxprbH6IJEIB"
      },
      "source": [
        "# Task 1. Complete the following code and run it.\n"
      ]
    },
    {
      "cell_type": "markdown",
      "metadata": {
        "id": "BJeussJmJEIB"
      },
      "source": [
        "### Please run the below code by clicking the small \"play\" button on the left of the cell"
      ]
    },
    {
      "cell_type": "code",
      "execution_count": 1,
      "metadata": {
        "colab": {
          "base_uri": "https://localhost:8080/"
        },
        "id": "oHy9tycjJEIC",
        "outputId": "2f6a93d8-bbb0-452a-cccc-e7a2ac4e2e07"
      },
      "outputs": [
        {
          "output_type": "stream",
          "name": "stdout",
          "text": [
            "Hello Wolrd\n"
          ]
        }
      ],
      "source": [
        "print ('Hello Wolrd')"
      ]
    },
    {
      "cell_type": "markdown",
      "metadata": {
        "id": "0g8u7iEmJEID"
      },
      "source": [
        "### SAVE this file(ctrl-s) At this moment"
      ]
    },
    {
      "cell_type": "markdown",
      "metadata": {
        "id": "hADJIuC4JEID"
      },
      "source": [
        "# Task 2. Complete the following instructions"
      ]
    },
    {
      "cell_type": "markdown",
      "metadata": {
        "id": "xQePyRx8JEID"
      },
      "source": [
        "### Press \"ESC\"\n",
        "### Create a \"Code Cell\" by typing \"b\"\n",
        "### Make the same code to print \"Hello World\"\n",
        "### Run it\n",
        "### Try to move the cell by \"alt - up / down\" in VS Code or \"Ctrl-M J/K\" in Google Colab"
      ]
    },
    {
      "cell_type": "code",
      "source": [
        "print ('Hello World')"
      ],
      "metadata": {
        "colab": {
          "base_uri": "https://localhost:8080/"
        },
        "id": "t2hNI0qEKJQP",
        "outputId": "e3cfb7bd-5119-4404-d8ee-41b964897c6c"
      },
      "execution_count": 3,
      "outputs": [
        {
          "output_type": "stream",
          "name": "stdout",
          "text": [
            "Hello World\n"
          ]
        }
      ]
    },
    {
      "cell_type": "markdown",
      "metadata": {
        "id": "mZyBSELmJEID"
      },
      "source": [
        "### SAVE this file(ctrl-s) At this moment"
      ]
    },
    {
      "cell_type": "markdown",
      "metadata": {
        "id": "EjQqTxyQJEIE"
      },
      "source": [
        "\n",
        "# Task 3\n",
        "### Create a \"Markdown Cell\"\n",
        "### Add a image in your \"Markdown Cell\" (Refer to the 1st Cell in this notebook file)"
      ]
    },
    {
      "cell_type": "markdown",
      "metadata": {
        "id": "tWSs0KXPJEIE"
      },
      "source": [
        "### SAVE this file(ctrl-s) At this moment"
      ]
    },
    {
      "cell_type": "markdown",
      "metadata": {
        "id": "9yzzW-glJEIE"
      },
      "source": [
        "### Make sure that you should have \"SAVE\" this file at least 3 times.\n",
        "### \"SAVE(ctrl-s)\" will make a snapshot in the Revision History"
      ]
    },
    {
      "cell_type": "markdown",
      "source": [
        "## Markdown Cell\n",
        "\n",
        "![Jeep J10](data:image/jpeg;base64,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)"
      ],
      "metadata": {
        "id": "dl-NcywGMZ_n"
      }
    }
  ],
  "metadata": {
    "kernelspec": {
      "display_name": "base",
      "language": "python",
      "name": "python3"
    },
    "language_info": {
      "codemirror_mode": {
        "name": "ipython",
        "version": 3
      },
      "file_extension": ".py",
      "mimetype": "text/x-python",
      "name": "python",
      "nbconvert_exporter": "python",
      "pygments_lexer": "ipython3",
      "version": "3.9.17"
    },
    "colab": {
      "provenance": []
    }
  },
  "nbformat": 4,
  "nbformat_minor": 0
}