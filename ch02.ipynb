{
  "cells": [
    {
      "cell_type": "markdown",
      "metadata": {
        "id": "pxfl_d2cszx7"
      },
      "source": [
        "# <p style=\"font-family: Arial; font-size:2.4em;color:red;\"> Contents </p>\n",
        "*[Section 1. Arithmetic Operator](ch02.ipynb/#section1) <br>\n",
        "*[Section 2. Variables ](#section2) <br>\n",
        "*[Section 3. Output in Python ](#section3) <br>\n",
        "*[Section 4. Input Statement ](#section4) <br>\n",
        "*[Section 5. String ](#section5) <br>\n",
        "***"
      ]
    },
    {
      "cell_type": "markdown",
      "metadata": {
        "id": "5N9cOuyPszx-"
      },
      "source": [
        "***\n",
        "<a id=\"section1\"></a>\n",
        "# <p style=\"font-family: Arial; font-size:2.4em;color:red;\"> 1. Arithmetic Operator </p>\n",
        "### <p style=\"font-family: Arial; font-size:1.4em;color:gold;\">  +, -, *, / , // </p>\n"
      ]
    },
    {
      "cell_type": "markdown",
      "metadata": {
        "id": "ekiX8mRGszx-"
      },
      "source": [
        "### Run all the blow code cells and see the results (click the cell and press \"ctrl-enter\" to run it)"
      ]
    },
    {
      "cell_type": "markdown",
      "metadata": {
        "id": "Q1t2LXH9szx-"
      },
      "source": [
        "#### **Problem #1.0**\n",
        "\n",
        "Run the below code cell and figure out the data type of values\n",
        "<br>\n"
      ]
    },
    {
      "cell_type": "code",
      "execution_count": 1,
      "metadata": {
        "colab": {
          "base_uri": "https://localhost:8080/"
        },
        "id": "hWAtnTfbszx_",
        "outputId": "fb98f246-c2e7-4400-8ec6-a94998a9b2a4"
      },
      "outputs": [
        {
          "output_type": "execute_result",
          "data": {
            "text/plain": [
              "30"
            ]
          },
          "metadata": {},
          "execution_count": 1
        }
      ],
      "source": [
        "10 + 20"
      ]
    },
    {
      "cell_type": "code",
      "execution_count": 2,
      "metadata": {
        "colab": {
          "base_uri": "https://localhost:8080/"
        },
        "id": "KfpMPrq0szx_",
        "outputId": "a6f6f884-b30b-4232-e50c-0cf13c54fb7b"
      },
      "outputs": [
        {
          "output_type": "execute_result",
          "data": {
            "text/plain": [
              "30.0"
            ]
          },
          "metadata": {},
          "execution_count": 2
        }
      ],
      "source": [
        "10.0 + 20.0"
      ]
    },
    {
      "cell_type": "code",
      "execution_count": 3,
      "metadata": {
        "colab": {
          "base_uri": "https://localhost:8080/"
        },
        "id": "YTFmoSjGszyA",
        "outputId": "e40dc408-6d5d-4af7-80e8-887d1dea34f8"
      },
      "outputs": [
        {
          "output_type": "execute_result",
          "data": {
            "text/plain": [
              "200"
            ]
          },
          "metadata": {},
          "execution_count": 3
        }
      ],
      "source": [
        "10 * 20"
      ]
    },
    {
      "cell_type": "code",
      "execution_count": 4,
      "metadata": {
        "colab": {
          "base_uri": "https://localhost:8080/"
        },
        "id": "hcrWm90dszyA",
        "outputId": "f1116029-9b2a-48ea-84cc-30d5fa254b32"
      },
      "outputs": [
        {
          "output_type": "execute_result",
          "data": {
            "text/plain": [
              "0.5"
            ]
          },
          "metadata": {},
          "execution_count": 4
        }
      ],
      "source": [
        "10 / 20"
      ]
    },
    {
      "cell_type": "code",
      "execution_count": 5,
      "metadata": {
        "colab": {
          "base_uri": "https://localhost:8080/"
        },
        "id": "4J4h6wUoszyA",
        "outputId": "57d25f80-2392-40b3-94fe-3e9dfb62868b"
      },
      "outputs": [
        {
          "output_type": "execute_result",
          "data": {
            "text/plain": [
              "0"
            ]
          },
          "metadata": {},
          "execution_count": 5
        }
      ],
      "source": [
        "10 // 20"
      ]
    },
    {
      "cell_type": "code",
      "execution_count": 6,
      "metadata": {
        "colab": {
          "base_uri": "https://localhost:8080/"
        },
        "id": "ZzNKAsm0szyA",
        "outputId": "ad6842d9-d8f8-4dfa-ec90-0c49c6fef9ff"
      },
      "outputs": [
        {
          "output_type": "execute_result",
          "data": {
            "text/plain": [
              "2"
            ]
          },
          "metadata": {},
          "execution_count": 6
        }
      ],
      "source": [
        "5 * 10 // 20"
      ]
    },
    {
      "cell_type": "code",
      "execution_count": 7,
      "metadata": {
        "colab": {
          "base_uri": "https://localhost:8080/"
        },
        "id": "VbaS6BVJszyA",
        "outputId": "380de93f-2758-4e4d-9022-7a62108fcdbc"
      },
      "outputs": [
        {
          "output_type": "execute_result",
          "data": {
            "text/plain": [
              "150"
            ]
          },
          "metadata": {},
          "execution_count": 7
        }
      ],
      "source": [
        "5 * 30 + 10 // 20"
      ]
    },
    {
      "cell_type": "code",
      "execution_count": 8,
      "metadata": {
        "colab": {
          "base_uri": "https://localhost:8080/"
        },
        "id": "bUhlZ3AGszyA",
        "outputId": "c03cd672-1513-4b69-cbe4-30589b61e369"
      },
      "outputs": [
        {
          "output_type": "execute_result",
          "data": {
            "text/plain": [
              "75.0"
            ]
          },
          "metadata": {},
          "execution_count": 8
        }
      ],
      "source": [
        "5 * 30 / 2"
      ]
    },
    {
      "cell_type": "code",
      "execution_count": 9,
      "metadata": {
        "colab": {
          "base_uri": "https://localhost:8080/"
        },
        "id": "8ZK5g8EkszyB",
        "outputId": "4953aafc-fc47-4c96-b36d-288e3febcf9d"
      },
      "outputs": [
        {
          "output_type": "execute_result",
          "data": {
            "text/plain": [
              "3"
            ]
          },
          "metadata": {},
          "execution_count": 9
        }
      ],
      "source": [
        "75 // 20"
      ]
    },
    {
      "cell_type": "code",
      "execution_count": 10,
      "metadata": {
        "colab": {
          "base_uri": "https://localhost:8080/"
        },
        "id": "XtXmmLXHszyB",
        "outputId": "e87ce640-2715-43b1-842f-ee5a885fd25d"
      },
      "outputs": [
        {
          "output_type": "execute_result",
          "data": {
            "text/plain": [
              "3.0"
            ]
          },
          "metadata": {},
          "execution_count": 10
        }
      ],
      "source": [
        "5 * 30 / 2 // 20"
      ]
    },
    {
      "cell_type": "markdown",
      "metadata": {
        "id": "9L1jcSccszyB"
      },
      "source": [
        "#### **Problem #1.1**\n",
        "\n",
        "Complete the follow code cells\n",
        "<br>\n"
      ]
    },
    {
      "cell_type": "markdown",
      "metadata": {
        "id": "PvOrjX6VszyB"
      },
      "source": [
        "#### Let's multiply 24.0 and 25.4"
      ]
    },
    {
      "cell_type": "code",
      "execution_count": 11,
      "metadata": {
        "colab": {
          "base_uri": "https://localhost:8080/"
        },
        "id": "S-_friN0szyB",
        "outputId": "318e3038-2fb1-4038-bbf1-b67346eb221a"
      },
      "outputs": [
        {
          "output_type": "execute_result",
          "data": {
            "text/plain": [
              "609.5999999999999"
            ]
          },
          "metadata": {},
          "execution_count": 11
        }
      ],
      "source": [
        "result = 24 * 25.4    # make your expression here\n",
        "result"
      ]
    },
    {
      "cell_type": "markdown",
      "metadata": {
        "id": "ePzeVARNszyB"
      },
      "source": [
        "#### **Problem #1.2**"
      ]
    },
    {
      "cell_type": "markdown",
      "metadata": {
        "id": "d4bt4oRhszyB"
      },
      "source": [
        "#### Let's divide 23 by 2"
      ]
    },
    {
      "cell_type": "code",
      "execution_count": 12,
      "metadata": {
        "colab": {
          "base_uri": "https://localhost:8080/"
        },
        "id": "dTG-Zbi3szyC",
        "outputId": "c4f43025-15a5-430d-ec3c-4f7499bf6a3e"
      },
      "outputs": [
        {
          "output_type": "execute_result",
          "data": {
            "text/plain": [
              "11.5"
            ]
          },
          "metadata": {},
          "execution_count": 12
        }
      ],
      "source": [
        "result = 23 / 2 # make your expression\n",
        "result"
      ]
    },
    {
      "cell_type": "markdown",
      "metadata": {
        "id": "Eh6L351wszyC"
      },
      "source": [
        "#### **Problem #1.3**"
      ]
    },
    {
      "cell_type": "markdown",
      "metadata": {
        "id": "9YqvKjXYszyC"
      },
      "source": [
        "#### Let's divide 100 by 20. Show the result as an integer value like 5, not 5.0"
      ]
    },
    {
      "cell_type": "code",
      "execution_count": 14,
      "metadata": {
        "colab": {
          "base_uri": "https://localhost:8080/"
        },
        "id": "f5oy6A9bszyC",
        "outputId": "c6c17b0b-e7eb-4bcc-b9a3-43e5531b9711"
      },
      "outputs": [
        {
          "output_type": "execute_result",
          "data": {
            "text/plain": [
              "5"
            ]
          },
          "metadata": {},
          "execution_count": 14
        }
      ],
      "source": [
        "result = 100 // 20\n",
        "result"
      ]
    },
    {
      "cell_type": "markdown",
      "metadata": {
        "id": "elKbUpzGszyC"
      },
      "source": [
        "#### **Problem #1.4**"
      ]
    },
    {
      "cell_type": "markdown",
      "metadata": {
        "id": "okKqG5PaszyD"
      },
      "source": [
        "### Explain how you can get the integer result 5 from 100 divide by 20"
      ]
    },
    {
      "cell_type": "markdown",
      "metadata": {
        "id": "l8ypuil_szyD"
      },
      "source": [
        "#### Your answer here\n"
      ]
    },
    {
      "cell_type": "code",
      "source": [
        "\"By using the '//' instead of the single '/', you are performing floor divison which takes the output and rounds to the nearest whole number.\""
      ],
      "metadata": {
        "id": "4Ar7NNPattSY"
      },
      "execution_count": null,
      "outputs": []
    },
    {
      "cell_type": "markdown",
      "metadata": {
        "id": "EpLaHqPIszyD"
      },
      "source": [
        "## 👉 Please save<font color='red'> **(ctrl-s or cmd-s)** </font> your file to make a checkpoint."
      ]
    },
    {
      "cell_type": "markdown",
      "metadata": {
        "id": "YojHNLF6szyD"
      },
      "source": [
        "***\n",
        "<a id=\"section2\"></a>\n",
        "# <p style=\"font-family: Arial; font-size:2.4em;color:red;\"> 2. Variables</p>\n",
        "\n",
        "#### Concepts:\n",
        "<blockquote> A variable is a name that represents a value stored in the computer’s memory.\n",
        "</blockquote>\n"
      ]
    },
    {
      "cell_type": "markdown",
      "metadata": {
        "id": "xs46IbDvszyD"
      },
      "source": [
        "<blockquote>\n",
        "An assignment statement is written in the following general format:\n",
        "variable = expression\n",
        "</blockquote>"
      ]
    },
    {
      "cell_type": "code",
      "execution_count": null,
      "metadata": {
        "id": "Bqf_XyIZszyD"
      },
      "outputs": [],
      "source": [
        "width = 10\n",
        "length = 5\n",
        "\n",
        "length = 10"
      ]
    },
    {
      "cell_type": "code",
      "execution_count": null,
      "metadata": {
        "id": "EUiF8OBjszyE"
      },
      "outputs": [],
      "source": [
        "class_name = 'Python'\n",
        "class_name"
      ]
    },
    {
      "cell_type": "markdown",
      "metadata": {
        "id": "hDxR4suDszyE"
      },
      "source": [
        "#### **Problem #2.0**\n",
        "\n",
        "Run the below code cell and figure out the data type of values\n",
        "<br>\n"
      ]
    },
    {
      "cell_type": "code",
      "execution_count": 16,
      "metadata": {
        "colab": {
          "base_uri": "https://localhost:8080/"
        },
        "id": "aGvzEErdszyE",
        "outputId": "bd475905-0777-4a4f-b2cf-e5a922eeb089"
      },
      "outputs": [
        {
          "output_type": "execute_result",
          "data": {
            "text/plain": [
              "int"
            ]
          },
          "metadata": {},
          "execution_count": 16
        }
      ],
      "source": [
        "width = 5\n",
        "type(width)"
      ]
    },
    {
      "cell_type": "code",
      "execution_count": 18,
      "metadata": {
        "colab": {
          "base_uri": "https://localhost:8080/"
        },
        "id": "ND6M_BDOszyE",
        "outputId": "bf9e4ef6-9860-4236-ada1-c4f9382ba964"
      },
      "outputs": [
        {
          "output_type": "execute_result",
          "data": {
            "text/plain": [
              "str"
            ]
          },
          "metadata": {},
          "execution_count": 18
        }
      ],
      "source": [
        "class_name = 'Programing fundamentals'\n",
        "type(class_name)"
      ]
    },
    {
      "cell_type": "code",
      "execution_count": 19,
      "metadata": {
        "colab": {
          "base_uri": "https://localhost:8080/"
        },
        "id": "--CDa5iNszyE",
        "outputId": "61975ea8-4008-495d-9501-6ae3dfaa1aa5"
      },
      "outputs": [
        {
          "output_type": "stream",
          "name": "stdout",
          "text": [
            "Hello World\n"
          ]
        }
      ],
      "source": [
        "print (\"Hello World\")"
      ]
    },
    {
      "cell_type": "markdown",
      "metadata": {
        "id": "BnqKxXNmszyE"
      },
      "source": [
        "#### **Problem #2.1**\n",
        "\n",
        "\n",
        "let's create a variable called `my_school` and assign a string (anything inside quotes: `\"...\"`) to it with your school's name.\n",
        "\n",
        "<br>\n",
        "\n",
        "**NOTE**: We will output the variable's value by writing the name of the variable on a line of its own."
      ]
    },
    {
      "cell_type": "code",
      "execution_count": 20,
      "metadata": {
        "colab": {
          "base_uri": "https://localhost:8080/",
          "height": 36
        },
        "id": "BBJEM6FMszyE",
        "outputId": "46ce7405-68dd-46d3-c1d1-aaa0a72829d8"
      },
      "outputs": [
        {
          "output_type": "execute_result",
          "data": {
            "text/plain": [
              "'Moorpark College'"
            ],
            "application/vnd.google.colaboratory.intrinsic+json": {
              "type": "string"
            }
          },
          "metadata": {},
          "execution_count": 20
        }
      ],
      "source": [
        "my_school = 'Moorpark College'\n",
        "\n",
        "my_school"
      ]
    },
    {
      "cell_type": "markdown",
      "metadata": {
        "id": "I0CtADDPszyE"
      },
      "source": [
        "#### **Problem #2.2**\n",
        "\n",
        "Let's create <font color=\"red\"> two varibles </font> to hold two scores 100 and 90 repectivelu and show the sum of two scores.\n",
        "<br>\n",
        "\n",
        "**NOTE**: We will output the variable's value by writing the name of the variable on a line of its own."
      ]
    },
    {
      "cell_type": "code",
      "execution_count": 23,
      "metadata": {
        "colab": {
          "base_uri": "https://localhost:8080/"
        },
        "id": "wdDNlGutszyE",
        "outputId": "703d2d44-a343-49e6-ff46-848c7fa0c4fa"
      },
      "outputs": [
        {
          "output_type": "execute_result",
          "data": {
            "text/plain": [
              "190"
            ]
          },
          "metadata": {},
          "execution_count": 23
        }
      ],
      "source": [
        "\n",
        "score1 = 100 # complete this code\n",
        "score2 = 90 # Complete this code\n",
        "\n",
        "total = score1 + score2\n",
        "total"
      ]
    },
    {
      "cell_type": "markdown",
      "metadata": {
        "id": "Q2O6QbEbszyP"
      },
      "source": [
        "#### **Problem #2.3**\n",
        "\n",
        "Let's create the <font color=\"red\"> **varibles** </font> to hold two values,  <br>\n",
        "100  <br>\n",
        "50.99   <br>\n",
        "<br>\n",
        "The variable names can be any names you want\n",
        "Then, show the summation of two variables.\n",
        "\n",
        "**NOTE**: We will output the variable's value by writing the name of the variable on a line of its own."
      ]
    },
    {
      "cell_type": "code",
      "execution_count": 24,
      "metadata": {
        "colab": {
          "base_uri": "https://localhost:8080/"
        },
        "id": "FpkaubYHszyQ",
        "outputId": "dbe3fccb-c5a1-4e9a-c0db-74ba5a381fed"
      },
      "outputs": [
        {
          "output_type": "execute_result",
          "data": {
            "text/plain": [
              "150.99"
            ]
          },
          "metadata": {},
          "execution_count": 24
        }
      ],
      "source": [
        "\n",
        "red = 100\n",
        "blue = 50.99\n",
        "purple = red + blue\n",
        "purple"
      ]
    },
    {
      "cell_type": "markdown",
      "metadata": {
        "id": "k8T8HwuiszyQ"
      },
      "source": [
        "#### **Problem #2.4**\n",
        "\n",
        "Let's create the <font color=\"red\"> **varibles** </font> to hold two values,  <br>\n",
        "<br><mark style=\"background-color:green; color:white\">\n",
        "Python  <br>\n",
        "Programming   <br>\n",
        "</mark>\n",
        "<br> </font>\n",
        "The variable names can be any names you want\n",
        "Then, show the summation of two variables.\n",
        "\n",
        "**NOTE**: We will output the variable's value by writing the name of the variable on a line of its own."
      ]
    },
    {
      "cell_type": "code",
      "execution_count": 26,
      "metadata": {
        "colab": {
          "base_uri": "https://localhost:8080/",
          "height": 36
        },
        "id": "TWsiiVm2szyQ",
        "outputId": "707250de-00d6-483c-c2ca-1a4b662fa201"
      },
      "outputs": [
        {
          "output_type": "execute_result",
          "data": {
            "text/plain": [
              "'pythonprogramming'"
            ],
            "application/vnd.google.colaboratory.intrinsic+json": {
              "type": "string"
            }
          },
          "metadata": {},
          "execution_count": 26
        }
      ],
      "source": [
        "\n",
        "language = \"python\" # complete this code to hold the values \"Python\"\n",
        "study = \"programming\" # complete this code to hold the values \"Programming\"\n",
        "course = language + study# complete this code to show the sum of two values\n",
        "course"
      ]
    },
    {
      "cell_type": "markdown",
      "metadata": {
        "id": "fCTUmHscszyQ"
      },
      "source": [
        "#### **Problem #2.5**\n",
        "\n",
        "#### make the expression to calculate the following math expression\n",
        "#### Set 30 to C and Solve the F value\n",
        "![Math Expression](https://wecapable.com/tools/celsius-to-fahrenheit/celsius-to-fahrenheit-conversion-formula-igetanswers.jpg)\n",
        "\n",
        "<br> Show the answer for F\n"
      ]
    },
    {
      "cell_type": "code",
      "execution_count": 29,
      "metadata": {
        "colab": {
          "base_uri": "https://localhost:8080/"
        },
        "id": "VwNYr1QvszyQ",
        "outputId": "4689bd86-b462-48d4-de56-6d25bd904792"
      },
      "outputs": [
        {
          "output_type": "execute_result",
          "data": {
            "text/plain": [
              "86.0"
            ]
          },
          "metadata": {},
          "execution_count": 29
        }
      ],
      "source": [
        "C = 30\n",
        "F = (9/5) * C + 32\n",
        "F"
      ]
    },
    {
      "cell_type": "markdown",
      "metadata": {
        "id": "2fK8cKZ0szyQ"
      },
      "source": [
        "#### **Problem #2.6**\n",
        "\n",
        "#### Set the price value $200 to your variable (any variable name you want)\n",
        "#### Calculate the 20% off price\n",
        "#### Show the final price\n",
        "\n"
      ]
    },
    {
      "cell_type": "code",
      "execution_count": 31,
      "metadata": {
        "colab": {
          "base_uri": "https://localhost:8080/"
        },
        "id": "CGrWFRZCszyR",
        "outputId": "3c314577-4fd4-4aab-ccf0-a2baffc45b68"
      },
      "outputs": [
        {
          "output_type": "execute_result",
          "data": {
            "text/plain": [
              "160.0"
            ]
          },
          "metadata": {},
          "execution_count": 31
        }
      ],
      "source": [
        "price = 200\n",
        "discount = price * .2\n",
        "total = price - discount\n",
        "total"
      ]
    },
    {
      "cell_type": "markdown",
      "metadata": {
        "id": "W9roHsVrszyR"
      },
      "source": [
        "#### **Problem #2.7**\n",
        "\n",
        "#### Create three integer variables to hold the following values\n",
        "##### 100\n",
        "##### 50\n",
        "##### 200\n",
        "\n",
        "#### Calculate the average of three values\n",
        "#### Show the average\n",
        "\n"
      ]
    },
    {
      "cell_type": "code",
      "execution_count": 33,
      "metadata": {
        "colab": {
          "base_uri": "https://localhost:8080/"
        },
        "id": "4QbvzPaEszyR",
        "outputId": "de351949-8831-47c4-d749-3c607ccf6a13"
      },
      "outputs": [
        {
          "output_type": "execute_result",
          "data": {
            "text/plain": [
              "116.66666666666667"
            ]
          },
          "metadata": {},
          "execution_count": 33
        }
      ],
      "source": [
        "num1 = 100\n",
        "num2 = 50\n",
        "num3 = 200\n",
        "average = (num1 + num2 + num3) / 3\n",
        "average"
      ]
    },
    {
      "cell_type": "markdown",
      "metadata": {
        "id": "1d15xxKKszyR"
      },
      "source": [
        "## 👉 Please save<font color='red'> **(ctrl-s or cmd-s)** </font> your file to make a checkpoint."
      ]
    },
    {
      "cell_type": "markdown",
      "metadata": {
        "id": "luDjS3DzszyR"
      },
      "source": [
        "***\n",
        "<a id='section3'></a>\n",
        "# <p style=\"font-family: Arial; font-size:2.4em;color:Red;\"> 3. Output in Python </p>\n"
      ]
    },
    {
      "cell_type": "markdown",
      "metadata": {
        "id": "VQ5Ql6UjszyR"
      },
      "source": [
        "### Simple Formatting Numbers\n",
        "\n",
        "\n",
        "- `Simple way to print with format:`\n",
        "\n",
        "\t- <a href=\"https://docs.python.org/3/library/functions.html?highlight=format#format\"> format(value[, format_spec])\n",
        "\t</a>\n",
        "\t- <a href=\"https://docs.python.org/3/library/string.html#formatspec\"> Format Specification </a>\n",
        "\n",
        "![Format Specifier](https://nimbus-screenshots.s3.amazonaws.com/s/cc0c0ec7efc3aba9bc4406f053b8fdf4.png)\n"
      ]
    },
    {
      "cell_type": "markdown",
      "metadata": {
        "id": "ofYMJldSszyR"
      },
      "source": [
        "#### <font color='red'> **Problem #3.1** </font>\n",
        "\n",
        "#### Run all the below cells and figure out the output format symbols\n",
        "\n"
      ]
    },
    {
      "cell_type": "markdown",
      "metadata": {
        "id": "gCYIKMCaszyS"
      },
      "source": [
        "### <mark style=\"background-color:green; color:white\"> formatting </mark>"
      ]
    },
    {
      "cell_type": "code",
      "execution_count": 34,
      "metadata": {
        "colab": {
          "base_uri": "https://localhost:8080/"
        },
        "id": "kVUSBfYgszyS",
        "outputId": "0d0a6914-5ad7-4a2d-c37e-b9791dec6f5b"
      },
      "outputs": [
        {
          "output_type": "stream",
          "name": "stdout",
          "text": [
            "123456789\n",
            "      123456789\n",
            "12345.68\n"
          ]
        }
      ],
      "source": [
        "# Format with width, Decimal / Float\n",
        "\n",
        "print ( 123456789 )\n",
        "print (format(123456789, '15d'))\n",
        "print (format(12345.678, '.2f'))\n"
      ]
    },
    {
      "cell_type": "code",
      "execution_count": 35,
      "metadata": {
        "colab": {
          "base_uri": "https://localhost:8080/"
        },
        "id": "lle_ioQ_szyS",
        "outputId": "bfbf1095-1002-40a6-af55-e7a5e6ad238a"
      },
      "outputs": [
        {
          "output_type": "stream",
          "name": "stdout",
          "text": [
            "1.234568e+04\n",
            "1.23e+04\n"
          ]
        }
      ],
      "source": [
        "# Scientific Notation\n",
        "\n",
        "print (format(12345.6789, 'e'))\n",
        "print (format(12345.6789, '.2e'))\n"
      ]
    },
    {
      "cell_type": "code",
      "execution_count": 36,
      "metadata": {
        "colab": {
          "base_uri": "https://localhost:8080/"
        },
        "id": "lZHvPi48szyS",
        "outputId": "3f29d661-0514-4705-be11-fb4c5aba3d4f"
      },
      "outputs": [
        {
          "output_type": "stream",
          "name": "stdout",
          "text": [
            "123,456,789.12\n"
          ]
        }
      ],
      "source": [
        "#? Inserting comma separator\n",
        "\n",
        "print (format(123456789.12345, ',.2f'))\n"
      ]
    },
    {
      "cell_type": "code",
      "execution_count": 37,
      "metadata": {
        "colab": {
          "base_uri": "https://localhost:8080/"
        },
        "id": "qidQ2CpmszyS",
        "outputId": "ebf6b5f1-1831-4f23-d714-6e0fbef98bca"
      },
      "outputs": [
        {
          "output_type": "stream",
          "name": "stdout",
          "text": [
            "1234567.89%\n"
          ]
        }
      ],
      "source": [
        "#? Floating point numbers as a percentage\n",
        "\n",
        "print (format(12345.6789, '.2%'))"
      ]
    },
    {
      "cell_type": "markdown",
      "metadata": {
        "id": "wHGm1OpzszyS"
      },
      "source": [
        "### <mark style=\"background-color:green; color:white\"> % formatting </mark>"
      ]
    },
    {
      "cell_type": "code",
      "execution_count": 38,
      "metadata": {
        "colab": {
          "base_uri": "https://localhost:8080/"
        },
        "id": "6OKWT_NEszyS",
        "outputId": "c56cfa48-b66d-4172-b536-0fbdeb2628c2"
      },
      "outputs": [
        {
          "output_type": "stream",
          "name": "stdout",
          "text": [
            "Value 1 is 1000\n"
          ]
        }
      ],
      "source": [
        "val1 =  1000\n",
        "print (\"Value 1 is %d\" % (val1))"
      ]
    },
    {
      "cell_type": "code",
      "execution_count": 39,
      "metadata": {
        "colab": {
          "base_uri": "https://localhost:8080/"
        },
        "id": "mxgf4SZ2szyT",
        "outputId": "1d48f799-510a-4556-d3f0-eed555ecdd7d"
      },
      "outputs": [
        {
          "output_type": "stream",
          "name": "stdout",
          "text": [
            "Integer value: 100, String Value: COMSC140, Floating Value:1234.57\n"
          ]
        }
      ],
      "source": [
        "\n",
        "val1 = 100\n",
        "val2 = 1234.5678\n",
        "strval = \"COMSC140\"\n",
        "\n",
        "print (\"Integer value: %d, String Value: %s, Floating Value:%.2f\" % (val1, strval, val2))"
      ]
    },
    {
      "cell_type": "markdown",
      "metadata": {
        "id": "71-MqZB4szyT"
      },
      "source": [
        "#### <mark style=\"background-color:green; color:white\"> Using the String format </mark>"
      ]
    },
    {
      "cell_type": "code",
      "execution_count": 40,
      "metadata": {
        "colab": {
          "base_uri": "https://localhost:8080/"
        },
        "id": "8G1Sscl8szyT",
        "outputId": "14120582-d50f-48b3-c528-384ab5e5cb64"
      },
      "outputs": [
        {
          "output_type": "stream",
          "name": "stdout",
          "text": [
            "Python Programming Class\n"
          ]
        }
      ],
      "source": [
        "print ( '{0} {1} Class'.format('Python', 'Programming'))"
      ]
    },
    {
      "cell_type": "code",
      "execution_count": 41,
      "metadata": {
        "colab": {
          "base_uri": "https://localhost:8080/"
        },
        "id": "2ykb62iZszyT",
        "outputId": "6f42b1d5-31ab-44f7-afba-10c82fd5392f"
      },
      "outputs": [
        {
          "output_type": "stream",
          "name": "stdout",
          "text": [
            "                   Python Programming     Class\n"
          ]
        }
      ],
      "source": [
        "print ( '{0:>25} {1:15} Class'.format('Python', 'Programming'))"
      ]
    },
    {
      "cell_type": "code",
      "execution_count": 42,
      "metadata": {
        "colab": {
          "base_uri": "https://localhost:8080/"
        },
        "id": "byVmH5zvszyT",
        "outputId": "aae9bef0-72dd-4c26-e5bc-48279dd5950e"
      },
      "outputs": [
        {
          "output_type": "stream",
          "name": "stdout",
          "text": [
            "This spam is absolutely horrible.\n"
          ]
        }
      ],
      "source": [
        "print('This {food} is {adjective}.'.format(food='spam', adjective='absolutely horrible'))"
      ]
    },
    {
      "cell_type": "code",
      "execution_count": 43,
      "metadata": {
        "colab": {
          "base_uri": "https://localhost:8080/"
        },
        "id": "xgwyi49IszyT",
        "outputId": "602bbc71-0044-4f9e-a7a2-edb0bc5d8cdf"
      },
      "outputs": [
        {
          "output_type": "stream",
          "name": "stdout",
          "text": [
            "Value 1: 100 and Value 2: 200\n"
          ]
        }
      ],
      "source": [
        "v1 = 100; v2 = 200\n",
        "\n",
        "print (\"Value 1: {} and Value 2: {}\".format(v1, v2))"
      ]
    },
    {
      "cell_type": "code",
      "execution_count": 44,
      "metadata": {
        "colab": {
          "base_uri": "https://localhost:8080/"
        },
        "id": "_SMQDswtszyU",
        "outputId": "166a98b5-b043-47aa-a7f8-8cb2e698dda2"
      },
      "outputs": [
        {
          "output_type": "stream",
          "name": "stdout",
          "text": [
            "The average is 56.67 \n",
            "The average is 56.67 \n",
            "The average is 60.00\n"
          ]
        }
      ],
      "source": [
        "avg = (100 + 50 + 20) / 3\n",
        "\n",
        "print (\"The average is {0:.2f} \".format(avg))\n",
        "print (\"The average is {:.2f} \".format(avg))\n",
        "\n",
        "print('The average is {0:.2f}'.format(59.999999))"
      ]
    },
    {
      "cell_type": "code",
      "execution_count": 45,
      "metadata": {
        "colab": {
          "base_uri": "https://localhost:8080/"
        },
        "id": "mEjKeXiaszyU",
        "outputId": "9e9ab148-dc63-4b95-89eb-da0fa90e91ae"
      },
      "outputs": [
        {
          "output_type": "stream",
          "name": "stdout",
          "text": [
            "12345.68\n",
            "     12345\n",
            "1.234568e+04\n",
            "1.23e+04\n",
            "1234567.89%\n"
          ]
        }
      ],
      "source": [
        "print ( format(12345.6789, '.2f'))\n",
        "print ( format(12345, '10d'))\n",
        "print ( format(12345.6789, 'e'))\n",
        "print ( format(12345.6789, '.2e'))\n",
        "print ( format(12345.6789, '.2%'))"
      ]
    },
    {
      "cell_type": "code",
      "execution_count": 46,
      "metadata": {
        "colab": {
          "base_uri": "https://localhost:8080/"
        },
        "id": "I5YYZHWqszyU",
        "outputId": "b36added-3160-418b-8384-6e78f2295767"
      },
      "outputs": [
        {
          "output_type": "stream",
          "name": "stdout",
          "text": [
            "one\n",
            "two\n",
            "three\n",
            "one two three one/two/three\n"
          ]
        }
      ],
      "source": [
        "# 2.8 More about Data output\n",
        "\n",
        "print ('one')\n",
        "print ('two')\n",
        "print ('three')\n",
        "\n",
        "print ('one', end=' ')\n",
        "print ('two', end=' ')\n",
        "print ('three', end=' ')\n",
        "\n",
        "#? Specifying an Item Separator\n",
        "print ('one', 'two', 'three', sep='/')\n"
      ]
    },
    {
      "cell_type": "markdown",
      "metadata": {
        "id": "q0ssWAcVszyU"
      },
      "source": [
        "## 👉✅ <mark style=\"background-color:green; color:white\"> PEP 498; f-string </mark>"
      ]
    },
    {
      "cell_type": "code",
      "execution_count": 47,
      "metadata": {
        "colab": {
          "base_uri": "https://localhost:8080/"
        },
        "id": "NujPi-KZszyU",
        "outputId": "c9da9867-1743-4693-ca35-343065d238bc"
      },
      "outputs": [
        {
          "output_type": "stream",
          "name": "stdout",
          "text": [
            "The value is 10\n",
            "The value is                   10\n",
            "The value is      12.34\n",
            "The value is 12.34000\n",
            "The string value is                                 Python Programming\n"
          ]
        }
      ],
      "source": [
        "value = 10\n",
        "\n",
        "print (f'The value is {value}')\n",
        "print (f'The value is {value:20}')\n",
        "\n",
        "fvalue = 12.34\n",
        "print (f'The value is {fvalue:>10}')\n",
        "print (f'The value is {fvalue:.5f}')\n",
        "\n",
        "strval = \"Python Programming\"\n",
        "print (f\"The string value is {strval:>50}\")"
      ]
    },
    {
      "cell_type": "markdown",
      "metadata": {
        "id": "ZMusKcm3szyV"
      },
      "source": [
        "***\n",
        "### Operators\n",
        "![Operators](https://p76.f0.n0.cdn.getcloudapp.com/items/6quEZnzo/bd9ed612-c454-488d-99e3-47237866c01e.jpg?source=viewer&v=6133a6ca78498b57666506941afd8a12)"
      ]
    },
    {
      "cell_type": "markdown",
      "metadata": {
        "id": "rSichRU2szyV"
      },
      "source": [
        "## 👉 Please save<font color='red'> **(ctrl-s or cmd-s)** </font> your file to make a checkpoint."
      ]
    },
    {
      "cell_type": "markdown",
      "metadata": {
        "id": "Ulk5IoTOszyV"
      },
      "source": [
        "***\n",
        "<a id='section4'> </a>\n",
        "# <p style=\"font-family: Arial; font-size:2.4em;color:Red;\"> 4. Input Statement </p>\n",
        "\n",
        "<blockquote>\n",
        "variable = input(prompt)\n",
        "</blockquote>"
      ]
    },
    {
      "cell_type": "markdown",
      "metadata": {
        "id": "FgvOVgc0szyV"
      },
      "source": [
        "#### **Problem #4.0**\n",
        "\n",
        "#### Run all the following codes and see the results\n",
        "#### <font color=\"red\">\"Where does the input box appear?\" </font>"
      ]
    },
    {
      "cell_type": "code",
      "execution_count": 48,
      "metadata": {
        "colab": {
          "base_uri": "https://localhost:8080/"
        },
        "id": "M6mLkPvuszyV",
        "outputId": "bf5ea2b5-ee1d-48b7-dfa0-cd4fdca7e4d9"
      },
      "outputs": [
        {
          "output_type": "stream",
          "name": "stdout",
          "text": [
            "Enter your score20\n",
            "Your score is  20\n"
          ]
        }
      ],
      "source": [
        "score = input('Enter your score')\n",
        "print ('Your score is ', score)\n"
      ]
    },
    {
      "cell_type": "code",
      "execution_count": 50,
      "metadata": {
        "colab": {
          "base_uri": "https://localhost:8080/"
        },
        "id": "KFdKiuU8szyV",
        "outputId": "c6be247c-52b8-4df3-8f5f-54b243f1e747"
      },
      "outputs": [
        {
          "output_type": "stream",
          "name": "stdout",
          "text": [
            "Enter your score12\n",
            "112\n"
          ]
        }
      ],
      "source": [
        "score = int(input('Enter your score'))\n",
        "final_score = score + 100;\t\t# this line causes an error\n",
        "\n",
        "print (final_score)"
      ]
    },
    {
      "cell_type": "code",
      "execution_count": 51,
      "metadata": {
        "colab": {
          "base_uri": "https://localhost:8080/"
        },
        "id": "vEImSlnwszyV",
        "outputId": "7f5859f0-db6e-4cbf-8294-3025b2f360a4"
      },
      "outputs": [
        {
          "output_type": "stream",
          "name": "stdout",
          "text": [
            "Enter your score15\n",
            "Final Score is        115\n"
          ]
        }
      ],
      "source": [
        "score = input ('Enter your score')\n",
        "final_score = int(score) + 100;\t\t# this line causes an error\n",
        "\n",
        "print (f'Final Score is {final_score:10}')"
      ]
    },
    {
      "cell_type": "markdown",
      "metadata": {
        "id": "Vx_GyoEcszyW"
      },
      "source": [
        "#### **Problem #4.1**\n",
        "<ol>\n",
        "<li> <font color=\"red\"> Ask the user name and score </font> </li>\n",
        "<li> Print the name and score </li>\n",
        "</ol>"
      ]
    },
    {
      "cell_type": "code",
      "execution_count": 55,
      "metadata": {
        "colab": {
          "base_uri": "https://localhost:8080/"
        },
        "id": "7RJFXwaKszyW",
        "outputId": "786c099b-a4e1-4b95-f0c8-04526813ee0f"
      },
      "outputs": [
        {
          "output_type": "stream",
          "name": "stdout",
          "text": [
            "Enter your namesteven\n",
            "Enter your score17\n",
            "steven 17\n"
          ]
        }
      ],
      "source": [
        "name = str(input('Enter your name'))\n",
        "score = int(input('Enter your score'))\n",
        "print (name, score)"
      ]
    },
    {
      "cell_type": "markdown",
      "metadata": {
        "id": "snbsAiK1szyW"
      },
      "source": [
        "#### **Problem #4.2**\n",
        "<ol>\n",
        "<li> <font color=\"red\"> Ask two scores </font> </li>\n",
        "<li> Print all the scores, summation and average </li>\n",
        "</ol>\n",
        "\n",
        "<ul>\n",
        "<li> Why should we use the funtion <font color=\"red\"> int()</font> for the scores? </li>\n",
        "</ul>"
      ]
    },
    {
      "cell_type": "code",
      "execution_count": 58,
      "metadata": {
        "colab": {
          "base_uri": "https://localhost:8080/"
        },
        "id": "Z1FfaWh7szyW",
        "outputId": "169dc80e-83f5-421f-9cdf-2b8ef749d1ca"
      },
      "outputs": [
        {
          "output_type": "stream",
          "name": "stdout",
          "text": [
            "Enter the score 117\n",
            "Enter the score 212\n",
            "score1 is 17 score2 is 12 the total is 29 the average is 14.5\n"
          ]
        }
      ],
      "source": [
        "score1 = int(input('Enter the score 1'))\n",
        "score2 = int(input('Enter the score 2'))\n",
        "total = score1 + score2\n",
        "average = (score1 + score2) / 2\n",
        "print ('score1 is', score1, 'score2 is', score2, 'the total is', total, 'the average is', average)"
      ]
    },
    {
      "cell_type": "markdown",
      "metadata": {
        "id": "7WvX97LUszyW"
      },
      "source": [
        "#### **Problem #4.3**\n",
        "<ol>\n",
        "<li> Ask the regular price\n",
        "<li> Ask the discount rate as a percentage(e.g, 30)</li>\n",
        "<li> Calcurate the final price ( Regular price * discount_rate / 100 ) </li>\n",
        "<li> Print Regular Prices, Discount Rate and Final Price with F-String format </li>\n",
        "</ol>\n",
        "<ul>\n",
        "<li> For example, print (f'Regular Price: {rprice:10}, Discount Rate: {drate:10}, Final Price: {fprice}) </li>\n",
        "</ul>"
      ]
    },
    {
      "cell_type": "code",
      "execution_count": 61,
      "metadata": {
        "colab": {
          "base_uri": "https://localhost:8080/"
        },
        "id": "mvonM5wLszyW",
        "outputId": "3aed7a17-304a-4dcc-8582-10f7b0cace1b"
      },
      "outputs": [
        {
          "output_type": "stream",
          "name": "stdout",
          "text": [
            "Enter regular price: 120\n",
            "Enter discounted rate: 12\n",
            "Regular Price: 120, Discount Rate: 12, Final Price: 105\n"
          ]
        }
      ],
      "source": [
        "rprice = int(input(\"Enter regular price: \"))\n",
        "drate = int(input(\"Enter discounted rate: \"))\n",
        "fprice = rprice * (100 - drate) // 100\n",
        "print (f'Regular Price: {rprice}, Discount Rate: {drate}, Final Price: {fprice}')"
      ]
    },
    {
      "cell_type": "markdown",
      "metadata": {
        "id": "waQmgqnYszyW"
      },
      "source": [
        "#### **Problem #4.4**\n",
        "<ol>\n",
        "<li> Ask the regular price\n",
        "<li> Ask the discount rate as a percentage(e.g, 30)</li>\n",
        "<li> Calcurate the discount price ( Regular price * discount_rate / 100 ) </li>\n",
        "<li> Print Regular Prices, Discount Rate and Final Price with F-String format </li>\n",
        "</ol>\n",
        "<ul>\n",
        "<li> For example, </li>\n",
        "<pre>\n",
        "print (f'Regular Price: {rprice:10}, Discount Rate: {drate:10}, Final Price: {fprice})\n",
        "<pre>\n",
        "</ul>"
      ]
    },
    {
      "cell_type": "code",
      "execution_count": null,
      "metadata": {
        "id": "aSUPxXHYszyX"
      },
      "outputs": [],
      "source": []
    },
    {
      "cell_type": "markdown",
      "metadata": {
        "id": "PBLrf80HszyX"
      },
      "source": [
        "#### **Problem #4.5**\n",
        "<ol>\n",
        "<li> Ask the celcius temperature(<font color=\"red\">floating value</font>) to the user\n",
        "<li> Calculate the Farenheit Temperature </li>\n",
        "<li> Print the Celcius and Farenheit Temperature with F-String format. Show the two practional digits </li>\n",
        "</ol>\n",
        "<ul>\n",
        "<li> For example, </li>\n",
        "<pre>\n",
        "print (f'Inputted Celcius: {celcius:10.2f}, Converted Fahrenhiet: {fahrenheit:10.2f}')\n",
        "<pre>\n",
        "</ul>"
      ]
    },
    {
      "cell_type": "code",
      "execution_count": 62,
      "metadata": {
        "colab": {
          "base_uri": "https://localhost:8080/"
        },
        "id": "SOWcSKxfszyX",
        "outputId": "8b7b5e09-265a-4081-f326-652dd3eea86d"
      },
      "outputs": [
        {
          "output_type": "stream",
          "name": "stdout",
          "text": [
            "Enter the Celcius Temperature: 0\n",
            "Inputted Celcius:       0.00, Converted Fahrenhiet:      32.00\n"
          ]
        }
      ],
      "source": [
        "celcius = float(input(\"Enter the Celcius Temperature: \"))\n",
        "fahrenheit = (celcius * 9/5) +32\n",
        "print (f'Inputted Celcius: {celcius:10.2f}, Converted Fahrenhiet: {fahrenheit:10.2f}')"
      ]
    },
    {
      "cell_type": "markdown",
      "metadata": {
        "id": "1jXv8pR7szyX"
      },
      "source": [
        "#### **Problem #4.6**\n",
        "\n",
        "<ol>\n",
        "<li> Ask the last name to the user </li>\n",
        "<li> Ask the first name to the user </li>\n",
        "<li> Print the first and last name in the seprated line </li>\n",
        "</ol>"
      ]
    },
    {
      "cell_type": "code",
      "execution_count": 63,
      "metadata": {
        "colab": {
          "base_uri": "https://localhost:8080/"
        },
        "id": "IDwRniFEszyX",
        "outputId": "e2fb17ee-93c2-4b2e-d9f4-59eacfbfb54f"
      },
      "outputs": [
        {
          "output_type": "stream",
          "name": "stdout",
          "text": [
            "Enter the last namerodriguez\n",
            "Enter the first namesteven\n",
            " First name: rodriguez \n",
            " Last name: steven\n"
          ]
        }
      ],
      "source": [
        "# Complete your code\n",
        "fname = input('Enter the last name')\n",
        "lname = input('Enter the first name')\n",
        "print (f' First name: {fname} \\n Last name: {lname}')"
      ]
    },
    {
      "cell_type": "markdown",
      "metadata": {
        "id": "s2ad6-K6szyX"
      },
      "source": [
        "## 👉 Please save<font color='red'> **(ctrl-s or cmd-s)** </font> your file to make a checkpoint."
      ]
    },
    {
      "cell_type": "markdown",
      "metadata": {
        "id": "NjWRDtXPszyX"
      },
      "source": [
        "<a id=section5></a>\n",
        "# <p style=\"font-family: Arial; font-size:2.4em;color:Red;\"> 5. String </p>\n",
        "<mark style=\"background-color:teal; color:white\"> Useful Links </mark>\n",
        "#### <a href=\"https://docs.python.org/3/library/stdtypes.html#string-methods\"> String Method in Python Documentation </a>\n",
        "#### <a href=\"https://www.w3schools.com/python/python_ref_string.asp\"> W3 School Examples </a>"
      ]
    },
    {
      "cell_type": "markdown",
      "metadata": {
        "id": "xUCxBA7XszyX"
      },
      "source": [
        "#### <p style=\"font-family: Arial; font-size:1.4em; background-color: yellow; color:black;\"> Problem #5.1 </p>\n",
        "<ul>\n",
        "<li> Run all the example code cells below\n",
        "</ul>"
      ]
    },
    {
      "cell_type": "markdown",
      "metadata": {
        "id": "97w1OXSbszyY"
      },
      "source": [
        "#### The string value can be accessed by <mark style=\"background-color:yellow; color:black\">index</mark>\n",
        "\n",
        "#### String variable can be followed by all the <mark style=\"background-color:yellow; color:black\"> string methods.</mark>\n"
      ]
    },
    {
      "cell_type": "code",
      "execution_count": 64,
      "metadata": {
        "colab": {
          "base_uri": "https://localhost:8080/"
        },
        "id": "xIMRZna3szyY",
        "outputId": "83c845e9-1a55-4eb2-a82a-b02058ad59db"
      },
      "outputs": [
        {
          "output_type": "stream",
          "name": "stdout",
          "text": [
            "Python Programming\n",
            "Python\n",
            "Python \n",
            "Python Programmin\n",
            "['Python', 'Programming']\n",
            "Python\n",
            "Programming\n"
          ]
        }
      ],
      "source": [
        "cname = \"Python Programming\"\n",
        "\n",
        "print (cname)\n",
        "print (cname[:6])\n",
        "print (cname[:-11])\n",
        "print (cname[:-1])\n",
        "\n",
        "\n",
        "print (cname.split(\" \"))\n",
        "print (cname.split()[0])\n",
        "print (cname.split()[1])"
      ]
    },
    {
      "cell_type": "markdown",
      "metadata": {
        "id": "ceS9E-utszyY"
      },
      "source": [
        "### String Methods Examples\n"
      ]
    },
    {
      "cell_type": "code",
      "execution_count": 65,
      "metadata": {
        "colab": {
          "base_uri": "https://localhost:8080/"
        },
        "id": "2IFJmA95szyY",
        "outputId": "67cf5751-4f5b-4fa2-b6f2-e1b176efa9b9"
      },
      "outputs": [
        {
          "output_type": "stream",
          "name": "stdout",
          "text": [
            "Number of Livermore occurrence 1\n",
            "Number of          1 occurrence Livermore \n",
            "Index of Livermore 19\n",
            "Index of Livermore 19\n",
            "Livermore\n"
          ]
        }
      ],
      "source": [
        "string1 = 'Python Programming Livermore'\n",
        "substring = 'py'\n",
        "\n",
        "city = 'Livermore'\n",
        "cnt = string1.count(city)\n",
        "print ('Number of {1} occurrence {0}'.format(cnt, city))\n",
        "print (f'Number of {cnt:10} occurrence {city:10}')\n",
        "\n",
        "idx = string1.find('Livermore')\n",
        "print ('Index of Livermore', idx)\n",
        "idx = string1.find('Livermore', 8)\n",
        "print ('Index of Livermore', idx)\n",
        "\n",
        "print (string1[idx:idx+len(city)])\n"
      ]
    },
    {
      "cell_type": "code",
      "execution_count": 66,
      "metadata": {
        "colab": {
          "base_uri": "https://localhost:8080/"
        },
        "id": "Bd8mGngOszyY",
        "outputId": "452d4b15-d925-4fbb-fd44-000d8f69fc96"
      },
      "outputs": [
        {
          "output_type": "stream",
          "name": "stdout",
          "text": [
            "['Python', ' Java', ' C++', ' Ruby', ' Rail', ' Java Script', ' PHP', ' Go', ' Gotlin']\n",
            "Python\n"
          ]
        }
      ],
      "source": [
        "\n",
        "languages = 'Python, Java, C++, Ruby, Rail, Java Script, PHP, Go, Gotlin'\n",
        "list_languages = languages.split(',')\n",
        "\n",
        "print (list_languages)\n",
        "print (list_languages[0])\n"
      ]
    },
    {
      "cell_type": "markdown",
      "metadata": {
        "id": "_zmQLvHGszyY"
      },
      "source": [
        "#### strip() methods"
      ]
    },
    {
      "cell_type": "code",
      "execution_count": 67,
      "metadata": {
        "colab": {
          "base_uri": "https://localhost:8080/",
          "height": 36
        },
        "id": "QsDqRnjPszyY",
        "outputId": "617463cc-a12b-4c6b-c05f-4f1fb86e478b"
      },
      "outputs": [
        {
          "output_type": "execute_result",
          "data": {
            "text/plain": [
              "'Python Programming'"
            ],
            "application/vnd.google.colaboratory.intrinsic+json": {
              "type": "string"
            }
          },
          "metadata": {},
          "execution_count": 67
        }
      ],
      "source": [
        "strval = 'Python Programming    '\n",
        "## strval has the additional spaces after values\n",
        "\n",
        "strval = strval.strip() # now, the spaces after string value have been stripped\n",
        "strval"
      ]
    },
    {
      "cell_type": "code",
      "execution_count": 68,
      "metadata": {
        "colab": {
          "base_uri": "https://localhost:8080/"
        },
        "id": "b-2gL7ntszyY",
        "outputId": "439d8b7a-f654-43e9-df6f-ba4d6a91e253"
      },
      "outputs": [
        {
          "output_type": "stream",
          "name": "stdout",
          "text": [
            "    Python   \n",
            "    Python\n",
            "Python   \n"
          ]
        }
      ],
      "source": [
        "\n",
        "## rstrip\n",
        "\n",
        "blank_padded_str = \"    Python   \"\n",
        "print (blank_padded_str)\n",
        "rstripped_str = blank_padded_str.rstrip(' ')\n",
        "print (rstripped_str)\n",
        "\n",
        "lstripped_str = blank_padded_str.lstrip(' ')\n",
        "print (lstripped_str)\n",
        "\n",
        "garbage_padded = '   Pyhton_+$?....'\n",
        "rstripped_str = garbage_padded.rstrip('_+?.')\n"
      ]
    },
    {
      "cell_type": "markdown",
      "metadata": {
        "id": "-nZkZ3BVszyZ"
      },
      "source": [
        "## isalnum, isalpha, isdigit, isnumeric"
      ]
    },
    {
      "cell_type": "code",
      "execution_count": 69,
      "metadata": {
        "colab": {
          "base_uri": "https://localhost:8080/"
        },
        "id": "Tb5nXkLBszyZ",
        "outputId": "c1504cbc-19c6-4143-ff7a-cad3442aab50"
      },
      "outputs": [
        {
          "output_type": "stream",
          "name": "stdout",
          "text": [
            "True\n",
            "False\n",
            "True\n",
            "True\n",
            "True\n"
          ]
        }
      ],
      "source": [
        "\n",
        "val1 = 'Python'\n",
        "print (val1.isalpha())\n",
        "val1 = 'Python3'\n",
        "print (val1.isalpha())\n",
        "\n",
        "\n",
        "val2 = '94543'\n",
        "print (val2.isnumeric())\n",
        "print (val2.isdigit())\n",
        "print (val2.isdecimal())\n",
        "\n"
      ]
    },
    {
      "cell_type": "code",
      "execution_count": 70,
      "metadata": {
        "colab": {
          "base_uri": "https://localhost:8080/"
        },
        "id": "vcRXTdULszyZ",
        "outputId": "7783168a-cb60-4d38-c0fb-9753d0d2f422"
      },
      "outputs": [
        {
          "output_type": "stream",
          "name": "stdout",
          "text": [
            "Enter your string11\n",
            "Enter the serach keywordtest\n",
            "1\n"
          ]
        }
      ],
      "source": [
        "original_str = input('Enter your string')\n",
        "word_str = input('Enter the serach keyword')\n",
        "\n",
        "idx = original_str.find(word_str)\n",
        "print (original_str[idx: idx+len(word_str)])\n",
        "\n"
      ]
    },
    {
      "cell_type": "markdown",
      "metadata": {
        "id": "Pd66DMQUszyZ"
      },
      "source": [
        "## split()"
      ]
    },
    {
      "cell_type": "code",
      "execution_count": 71,
      "metadata": {
        "colab": {
          "base_uri": "https://localhost:8080/"
        },
        "id": "DwP63qUbszyZ",
        "outputId": "dbb4ab89-1e55-49f1-b3ef-8af3c65c7ecb"
      },
      "outputs": [
        {
          "output_type": "execute_result",
          "data": {
            "text/plain": [
              "['Python', 'Java', 'PHP', 'C++', 'R', 'SQL']"
            ]
          },
          "metadata": {},
          "execution_count": 71
        }
      ],
      "source": [
        "strval = \"Python Java PHP C++ R SQL\"\n",
        "strval.split()"
      ]
    },
    {
      "cell_type": "code",
      "execution_count": 72,
      "metadata": {
        "colab": {
          "base_uri": "https://localhost:8080/"
        },
        "id": "AfO7_M0dszya",
        "outputId": "056ad9e0-352d-4c21-f49c-eae82d4c834e"
      },
      "outputs": [
        {
          "output_type": "stream",
          "name": "stdout",
          "text": [
            "['Python', 'Java', 'PHP', 'C++', 'R', 'SQL']\n"
          ]
        }
      ],
      "source": [
        "strval = \"Python Java PHP C++ R SQL\"\n",
        "strval = strval.split()\n",
        "print (strval)"
      ]
    },
    {
      "cell_type": "markdown",
      "metadata": {
        "id": "G6f8R7Ebszya"
      },
      "source": [
        "#### <p style=\"font-family: Arial; font-size:1.4em; background-color: yellow; color:black;\"> Problem #5.2 </p>\n",
        "> <p> 1. Print the first name from the given names using the indices  </p>"
      ]
    },
    {
      "cell_type": "code",
      "execution_count": 73,
      "metadata": {
        "colab": {
          "base_uri": "https://localhost:8080/",
          "height": 36
        },
        "id": "UeF6iGu7szya",
        "outputId": "e446e824-8e4f-413e-ed22-4dbf83173366"
      },
      "outputs": [
        {
          "output_type": "execute_result",
          "data": {
            "text/plain": [
              "'John'"
            ],
            "application/vnd.google.colaboratory.intrinsic+json": {
              "type": "string"
            }
          },
          "metadata": {},
          "execution_count": 73
        }
      ],
      "source": [
        "name = \"John Doe\"\n",
        "fname = name[:4]\n",
        "fname"
      ]
    },
    {
      "cell_type": "markdown",
      "metadata": {
        "id": "KAcRljRGszyb"
      },
      "source": [
        "> 2. Print the last name from the given name using the indices"
      ]
    },
    {
      "cell_type": "code",
      "execution_count": 76,
      "metadata": {
        "colab": {
          "base_uri": "https://localhost:8080/",
          "height": 36
        },
        "id": "sJ3628Wzszyb",
        "outputId": "cd0fe51e-6149-48c6-f4d8-d6c02ae78d27"
      },
      "outputs": [
        {
          "output_type": "execute_result",
          "data": {
            "text/plain": [
              "'rodriguez'"
            ],
            "application/vnd.google.colaboratory.intrinsic+json": {
              "type": "string"
            }
          },
          "metadata": {},
          "execution_count": 76
        }
      ],
      "source": [
        "name = \"steven rodriguez\"\n",
        "lname = name[7:]\n",
        "lname"
      ]
    },
    {
      "cell_type": "markdown",
      "metadata": {
        "id": "CN0vpruEszye"
      },
      "source": [
        "> 3. Create a new variable that holds the last and first name, like \"Doe John\""
      ]
    },
    {
      "cell_type": "code",
      "execution_count": null,
      "metadata": {
        "id": "6OYLjIgBszye"
      },
      "outputs": [],
      "source": [
        "new_name = \"steven rodriguez\""
      ]
    },
    {
      "cell_type": "markdown",
      "metadata": {
        "id": "dYkKygRYszye"
      },
      "source": [
        "#### <p style=\"font-family: Arial; font-size:1.4em; background-color: yellow; color:black;\"> Problem #5.3 </p>\n",
        "> <p> 1. Find the index of first space in the name </p>"
      ]
    },
    {
      "cell_type": "code",
      "execution_count": 77,
      "metadata": {
        "colab": {
          "base_uri": "https://localhost:8080/"
        },
        "id": "nzcEMtrNszye",
        "outputId": "77ddcbaf-96b4-4209-886a-83c5d77f5197"
      },
      "outputs": [
        {
          "output_type": "execute_result",
          "data": {
            "text/plain": [
              "4"
            ]
          },
          "metadata": {},
          "execution_count": 77
        }
      ],
      "source": [
        "name = 'Jane Doe'\n",
        "found_index = name.find(' ')\n",
        "found_index"
      ]
    },
    {
      "cell_type": "markdown",
      "metadata": {
        "id": "61MLGJohszye"
      },
      "source": [
        "> <p> 2. Find the index of the symbol '@' in the email string </p>"
      ]
    },
    {
      "cell_type": "code",
      "execution_count": 79,
      "metadata": {
        "colab": {
          "base_uri": "https://localhost:8080/"
        },
        "id": "Ubqoe1hUszyf",
        "outputId": "7c147555-6b1d-42b2-8254-41e4250d3520"
      },
      "outputs": [
        {
          "output_type": "stream",
          "name": "stdout",
          "text": [
            "4\n"
          ]
        }
      ],
      "source": [
        "email_str = 'John@company.com'\n",
        "idx = email_str.index('@')\n",
        "print(idx)"
      ]
    },
    {
      "cell_type": "markdown",
      "metadata": {
        "id": "dZGWQtjtszyf"
      },
      "source": [
        "> <p> 3. Find the 2nd index of the symbol '.' in the email string </p>"
      ]
    },
    {
      "cell_type": "code",
      "execution_count": 80,
      "metadata": {
        "colab": {
          "base_uri": "https://localhost:8080/"
        },
        "id": "iDBPP0oRszyf",
        "outputId": "2716a0bf-0769-4ff6-b1dc-e0f65d62cf8b"
      },
      "outputs": [
        {
          "output_type": "stream",
          "name": "stdout",
          "text": [
            "24\n"
          ]
        }
      ],
      "source": [
        "email_str = 'noreply@database.company.edu'\n",
        "idx_dot = email_str.index('.', email_str.index('.') + 1)\n",
        "print(idx_dot)"
      ]
    },
    {
      "cell_type": "markdown",
      "metadata": {
        "id": "5qJBq0khszyf"
      },
      "source": [
        "> <p> 4. Does the email ID '2myemail' start with alphabet ? </p>\n",
        "- Use the method <mark> isalpha() </mark>"
      ]
    },
    {
      "cell_type": "code",
      "execution_count": 81,
      "metadata": {
        "colab": {
          "base_uri": "https://localhost:8080/"
        },
        "id": "mgbRyF6jszyf",
        "outputId": "4f7824c2-eb90-4857-b0e2-371fde6959df"
      },
      "outputs": [
        {
          "output_type": "stream",
          "name": "stdout",
          "text": [
            "False\n"
          ]
        }
      ],
      "source": [
        "email_id = '2myemail'\n",
        "result = email_id[0].isalpha()\n",
        "print (result)"
      ]
    },
    {
      "cell_type": "markdown",
      "metadata": {
        "id": "tOwe5ztpszyf"
      },
      "source": [
        "> <p> 5. Does the email ID 'myemail.1234' include non-alphabet letters ? </p>\n",
        "- Use the method <mark> isalpha() </mark>"
      ]
    },
    {
      "cell_type": "code",
      "execution_count": 83,
      "metadata": {
        "colab": {
          "base_uri": "https://localhost:8080/"
        },
        "id": "zS4wOiKfszyg",
        "outputId": "234871ac-2c90-4e55-94f1-a9d3e55f26e1"
      },
      "outputs": [
        {
          "output_type": "stream",
          "name": "stdout",
          "text": [
            "True\n"
          ]
        }
      ],
      "source": [
        "email_id = 'myemail.1234'\n",
        "result = not email_id.isalpha()\n",
        "print(result)"
      ]
    },
    {
      "cell_type": "markdown",
      "metadata": {
        "id": "GSV1PF4Hszyg"
      },
      "source": [
        "> <p> 6. Does the email ID 'myemail.1234' end with the digit? </p>\n",
        "- Use the method <mark> isalpha() </mark>"
      ]
    },
    {
      "cell_type": "code",
      "execution_count": 84,
      "metadata": {
        "colab": {
          "base_uri": "https://localhost:8080/"
        },
        "id": "7P0jVZGCszyg",
        "outputId": "7bd9de07-86c2-4528-ca33-9960eebe3eba"
      },
      "outputs": [
        {
          "output_type": "stream",
          "name": "stdout",
          "text": [
            "True\n"
          ]
        }
      ],
      "source": [
        "email_id = 'myeamil.1234'\n",
        "result = not email_id[-1].isalpha()\n",
        "print(result)"
      ]
    },
    {
      "cell_type": "markdown",
      "metadata": {
        "id": "XJycDzcKszyg"
      },
      "source": [
        "#### <p style=\"font-family: Arial; font-size:1.4em; background-color: yellow; color:black;\"> Problem #5.4 </p>"
      ]
    },
    {
      "cell_type": "markdown",
      "metadata": {
        "id": "zZhUHu9rszyg"
      },
      "source": [
        "> <p> 1. Split this word 'Python C++ HTML PHP JAVA\" by the space\n",
        "- Use the method <mark> split() </mark>"
      ]
    },
    {
      "cell_type": "code",
      "execution_count": 85,
      "metadata": {
        "colab": {
          "base_uri": "https://localhost:8080/"
        },
        "id": "W8zfl6e8szyh",
        "outputId": "5142a8fe-31c4-46ea-e2d0-f559a5d7232b"
      },
      "outputs": [
        {
          "output_type": "stream",
          "name": "stdout",
          "text": [
            "['Python', 'C++', 'HTML', 'PHP', 'JAVA']\n"
          ]
        }
      ],
      "source": [
        "original_str = 'Python C++ HTML PHP JAVA'\n",
        "split_str = original_str.split()\n",
        "print (split_str)"
      ]
    },
    {
      "cell_type": "markdown",
      "metadata": {
        "id": "xxwAiuaqszyh"
      },
      "source": [
        "> <p> 2. Split the word 'John/Jane/Doe/Smith/Tom' by the '/'\n",
        "- Use the method <mark> split() </mark>"
      ]
    },
    {
      "cell_type": "code",
      "execution_count": 88,
      "metadata": {
        "colab": {
          "base_uri": "https://localhost:8080/"
        },
        "id": "yG7eBYGQszyh",
        "outputId": "8114fae9-ece9-44c1-8693-78b8d3b20627"
      },
      "outputs": [
        {
          "output_type": "stream",
          "name": "stdout",
          "text": [
            "['John', 'Jane', 'Doe', 'Smith', 'Tom']\n"
          ]
        }
      ],
      "source": [
        "original_str = 'John/Jane/Doe/Smith/Tom'\n",
        "split_str = original_str.split(\"/\")\n",
        "print (split_str)"
      ]
    },
    {
      "cell_type": "markdown",
      "metadata": {
        "id": "Y45rseyfszyh"
      },
      "source": [
        "> <p> 3. Merge the string 'first', 'second' and 'third' with the space between each word\n",
        "- Use the operator <mark> + </mark>"
      ]
    },
    {
      "cell_type": "code",
      "execution_count": 91,
      "metadata": {
        "colab": {
          "base_uri": "https://localhost:8080/"
        },
        "id": "1fRolurmszyh",
        "outputId": "9a6e1adb-8886-4c0d-b624-4c6c45270491"
      },
      "outputs": [
        {
          "output_type": "stream",
          "name": "stdout",
          "text": [
            "first second third\n"
          ]
        }
      ],
      "source": [
        "str1 = 'first'\n",
        "str2 = 'second'\n",
        "str3 = 'third'\n",
        "merged_str = str1 + \" \" + str2 + \" \" + str3\n",
        "print(merged_str)\n",
        "# It must print 'first second third'"
      ]
    },
    {
      "cell_type": "markdown",
      "metadata": {
        "id": "7EN686Ogszyh"
      },
      "source": [
        "## 👉 Please save<font color='red'> **(ctrl-s or cmd-s)** </font> your file to make a checkpoint."
      ]
    }
  ],
  "metadata": {
    "kernelspec": {
      "display_name": "base",
      "language": "python",
      "name": "python3"
    },
    "language_info": {
      "codemirror_mode": {
        "name": "ipython",
        "version": 3
      },
      "file_extension": ".py",
      "mimetype": "text/x-python",
      "name": "python",
      "nbconvert_exporter": "python",
      "pygments_lexer": "ipython3",
      "version": "3.9.17"
    },
    "orig_nbformat": 4,
    "vscode": {
      "interpreter": {
        "hash": "32cd87c0c55905266dc8232ebf1148f668af0d9324249c125246585210a29cd6"
      }
    },
    "colab": {
      "provenance": []
    }
  },
  "nbformat": 4,
  "nbformat_minor": 0
}